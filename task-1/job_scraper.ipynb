{
 "cells": [
  {
   "cell_type": "code",
   "execution_count": 1,
   "metadata": {},
   "outputs": [],
   "source": [
    "import requests\n",
    "from bs4 import BeautifulSoup\n",
    "import pandas as pd\n",
    "\n",
    "# import time"
   ]
  },
  {
   "cell_type": "code",
   "execution_count": 9,
   "metadata": {},
   "outputs": [
    {
     "name": "stdout",
     "output_type": "stream",
     "text": [
      "Page fetched successfully!\n"
     ]
    }
   ],
   "source": [
    "url = \"https://remoteok.com/remote-engineer-jobs\"\n",
    "headers = {\n",
    "    \"User-Agent\": \"Mozilla/5.0 (Windows NT 10.0; Win64; x64) AppleWebKit/537.36 (KHTML, like Gecko) Chrome/91.0.4472.124 Safari/537.36\"\n",
    "}\n",
    "\n",
    "\n",
    "response = requests.get(url, headers=headers)\n",
    "\n",
    "if response.status_code == 200:\n",
    "    print(\"Page fetched successfully!\")\n",
    "else:\n",
    "    print(\"An error occurred while fetching the page\")"
   ]
  },
  {
   "cell_type": "code",
   "execution_count": 10,
   "metadata": {},
   "outputs": [
    {
     "name": "stdout",
     "output_type": "stream",
     "text": [
      "Remote Engineer Jobs with great benefits and pay\n"
     ]
    }
   ],
   "source": [
    "# Parse the HTML content\n",
    "soup = BeautifulSoup(response.text, \"html.parser\")\n",
    "\n",
    "# Print the page title to confirm it worked\n",
    "print(soup.title.text)\n",
    "# print(soup.prettify())"
   ]
  },
  {
   "cell_type": "code",
   "execution_count": 27,
   "metadata": {},
   "outputs": [],
   "source": [
    "# Find all job elements\n",
    "jobs = soup.find_all(\"tr\", class_=\"job\")\n",
    "\n",
    "\n",
    "# Initialize empty lists to store the data\n",
    "job_titles = []\n",
    "companies = []\n",
    "locations = []\n",
    "salaries = []\n",
    "jobTags = {}\n",
    "\n",
    "csv_data = []\n",
    "\n",
    "# Loop through each job element\n",
    "for job in jobs:\n",
    "    # extract job titles\n",
    "    title = job.find(\"td\", class_=\"company_and_position\").find(\"h2\").text.strip()\n",
    "    job_titles.append(title)\n",
    "\n",
    "    company = job.find(\"td\", class_=\"company_and_position\").find(\"h3\").text.strip()\n",
    "    companies.append(company)\n",
    "\n",
    "    location = (\n",
    "        job.find(\"td\", class_=\"company_and_position\")\n",
    "        .find(\"div\", class_=\"location\")\n",
    "        .text.strip()\n",
    "    )\n",
    "    locations.append(location)\n",
    "\n",
    "    salary = (\n",
    "        job.find(\"td\", class_=\"company_and_position\")\n",
    "        .find(\"div\", class_=\"location\")\n",
    "        .find_next_sibling(\"div\", class_=\"location tooltip\")\n",
    "        .text.strip()\n",
    "    )\n",
    "    salaries.append(salary)\n",
    "\n",
    "    tags = job.find(\"td\", class_=\"tags\").find_all(\"h3\")\n",
    "    # put all tags in a list\n",
    "    tagList = []\n",
    "    for tag in tags:\n",
    "        tagList.append(tag.text.strip())\n",
    "    jobTags[title] = list(set(tagList))\n",
    "\n",
    "    csv_data.append(\n",
    "        {\n",
    "            \"job_title\": title,\n",
    "            \"company\": company,\n",
    "            \"location\": location,\n",
    "            \"salary\": salary,\n",
    "            \"tags\": \",\".join(list(set(tagList))),\n",
    "        }\n",
    "    )\n",
    "\n",
    "# make a dataframe\n",
    "df = pd.DataFrame(csv_data)\n",
    "\n",
    "# save the data to a csv file\n",
    "df.to_csv(\"remoteok_jobs.csv\", index=False, encoding=\"utf-8\")"
   ]
  },
  {
   "cell_type": "code",
   "execution_count": null,
   "metadata": {},
   "outputs": [],
   "source": []
  }
 ],
 "metadata": {
  "kernelspec": {
   "display_name": "Python 3",
   "language": "python",
   "name": "python3"
  },
  "language_info": {
   "codemirror_mode": {
    "name": "ipython",
    "version": 3
   },
   "file_extension": ".py",
   "mimetype": "text/x-python",
   "name": "python",
   "nbconvert_exporter": "python",
   "pygments_lexer": "ipython3",
   "version": "3.12.3"
  }
 },
 "nbformat": 4,
 "nbformat_minor": 2
}

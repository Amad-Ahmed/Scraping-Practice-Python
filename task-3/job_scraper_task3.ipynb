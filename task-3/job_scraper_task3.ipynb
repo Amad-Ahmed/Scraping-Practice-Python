{
 "cells": [
  {
   "cell_type": "code",
   "execution_count": 1,
   "metadata": {},
   "outputs": [],
   "source": [
    "import aiohttp\n",
    "import asyncio\n",
    "from bs4 import BeautifulSoup\n",
    "import pandas as pd"
   ]
  },
  {
   "cell_type": "code",
   "execution_count": 2,
   "metadata": {},
   "outputs": [],
   "source": [
    "async def fetch(url, session):\n",
    "    try:\n",
    "        async with session.get(url) as response:\n",
    "            if response.status == 200:\n",
    "                return await response.text()\n",
    "            else:\n",
    "                print(f\"Failed to fetch {url}: HTTP {response.status}\")\n",
    "                return None\n",
    "    except Exception as e:\n",
    "        print(f\"An error occurred while fetching {url}: {e}\")\n",
    "        return None"
   ]
  },
  {
   "cell_type": "code",
   "execution_count": 3,
   "metadata": {},
   "outputs": [],
   "source": [
    "def safe_extract(element, selector, attr=None):\n",
    "    \"\"\"Helper function to safely extract text or attribute from an element.\"\"\"\n",
    "    try:\n",
    "        if attr:\n",
    "            return element.select_one(selector)[attr].strip()\n",
    "        return element.select_one(selector).text.strip()\n",
    "    except (AttributeError, TypeError):\n",
    "        return \"N/A\"\n",
    "\n",
    "\n",
    "def extract_job_data(html):\n",
    "    soup = BeautifulSoup(html, \"html.parser\")\n",
    "    jobs = soup.find_all(\"tr\", class_=\"job\")\n",
    "    csv_data = []\n",
    "\n",
    "    # Loop through each job element\n",
    "    for job in jobs:\n",
    "        # Use the helper function to extract values\n",
    "        title = safe_extract(job, \"td.company_and_position h2\")\n",
    "        company = safe_extract(job, \"td.company_and_position h3\")\n",
    "        location = safe_extract(job, \"td.company_and_position div.location\")\n",
    "        salary = safe_extract(job, \"td.company_and_position div.location + div.tooltip\")\n",
    "\n",
    "        # Extract tags\n",
    "        tags_elements = job.select(\"td.tags h3\")\n",
    "        tagList = [tag.text.strip() for tag in tags_elements if tag]\n",
    "\n",
    "        csv_data.append(\n",
    "            {\n",
    "                \"job_title\": title,\n",
    "                \"company\": company,\n",
    "                \"location\": location,\n",
    "                \"salary\": salary,\n",
    "                \"tags\": \",\".join(list(set(tagList))),\n",
    "            }\n",
    "        )\n",
    "    return csv_data"
   ]
  },
  {
   "cell_type": "code",
   "execution_count": 4,
   "metadata": {},
   "outputs": [],
   "source": [
    "async def scrape_jobs(categories):\n",
    "    base_url = \"https://remoteok.com\"\n",
    "    headers = {\n",
    "        \"User-Agent\": \"Mozilla/5.0 (Windows NT 10.0; Win64; x64) AppleWebKit/537.36 (KHTML, like Gecko) Chrome/91.0.4472.124 Safari/537.36\"\n",
    "    }\n",
    "    tasks = []\n",
    "    results = {}\n",
    "\n",
    "    async with aiohttp.ClientSession(headers=headers) as session:\n",
    "        for category in categories:\n",
    "            url = f\"{base_url}/remote-{category}-jobs\"\n",
    "            tasks.append(fetch(url, session))\n",
    "\n",
    "        responses = await asyncio.gather(*tasks)\n",
    "\n",
    "        for category, html in zip(categories, responses):\n",
    "            if html:\n",
    "                job_data = extract_job_data(html)\n",
    "                if job_data:\n",
    "                    results[category] = job_data\n",
    "\n",
    "    return results"
   ]
  },
  {
   "cell_type": "code",
   "execution_count": 5,
   "metadata": {},
   "outputs": [],
   "source": [
    "def save_to_csv(data):\n",
    "    for category, jobs in data.items():\n",
    "        if jobs:\n",
    "            df = pd.DataFrame(jobs)\n",
    "            filename = f\"{category}_jobs.csv\"\n",
    "            df.to_csv(filename, index=False, encoding=\"utf-8\")\n",
    "            print(f\"Saved {len(jobs)} jobs to {filename}\")\n",
    "        else:\n",
    "            print(f\"No jobs found for {category}\")"
   ]
  },
  {
   "cell_type": "code",
   "execution_count": 6,
   "metadata": {},
   "outputs": [
    {
     "name": "stdout",
     "output_type": "stream",
     "text": [
      "Saved 20 jobs to engineer_jobs.csv\n",
      "Saved 15 jobs to executive_jobs.csv\n",
      "Saved 20 jobs to senior_jobs.csv\n",
      "Saved 20 jobs to developer_jobs.csv\n",
      "Saved 19 jobs to finance_jobs.csv\n",
      "Saved 1 jobs to sys admin_jobs.csv\n"
     ]
    }
   ],
   "source": [
    "import nest_asyncio\n",
    "import asyncio\n",
    "\n",
    "# Apply the nest_asyncio patch\n",
    "nest_asyncio.apply()\n",
    "\n",
    "\n",
    "# Your async functions\n",
    "async def main():\n",
    "    categories = [\n",
    "        \"engineer\",\n",
    "        \"executive\",\n",
    "        \"senior\",\n",
    "        \"developer\",\n",
    "        \"finance\",\n",
    "        \"sys admin\",\n",
    "    ]  # Add more categories as needed\n",
    "    results = await scrape_jobs(categories)\n",
    "    save_to_csv(results)\n",
    "\n",
    "\n",
    "# Run the main function\n",
    "await main()"
   ]
  },
  {
   "cell_type": "code",
   "execution_count": null,
   "metadata": {},
   "outputs": [],
   "source": []
  }
 ],
 "metadata": {
  "kernelspec": {
   "display_name": "Python 3",
   "language": "python",
   "name": "python3"
  },
  "language_info": {
   "codemirror_mode": {
    "name": "ipython",
    "version": 3
   },
   "file_extension": ".py",
   "mimetype": "text/x-python",
   "name": "python",
   "nbconvert_exporter": "python",
   "pygments_lexer": "ipython3",
   "version": "3.12.3"
  }
 },
 "nbformat": 4,
 "nbformat_minor": 2
}

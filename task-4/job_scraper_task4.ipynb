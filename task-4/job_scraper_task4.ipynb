{
 "cells": [
  {
   "cell_type": "code",
   "execution_count": 13,
   "metadata": {},
   "outputs": [],
   "source": [
    "from selenium import webdriver\n",
    "from selenium.webdriver.common.by import By\n",
    "from selenium.webdriver.common.action_chains import ActionChains\n",
    "from bs4 import BeautifulSoup\n",
    "import pandas as pd\n",
    "import time\n",
    "from selenium.webdriver.firefox.service import Service\n",
    "from selenium.webdriver.firefox.options import Options"
   ]
  },
  {
   "cell_type": "code",
   "execution_count": 14,
   "metadata": {},
   "outputs": [],
   "source": [
    "firefox_binary_path = r\"C:\\Program Files\\Mozilla Firefox\\firefox.exe\"\n",
    "\n",
    "# Set Firefox options\n",
    "options = Options()\n",
    "options.binary_location = firefox_binary_path\n",
    "\n",
    "# Specify the path to geckodriver using the Service class\n",
    "service = Service(r\"F:\\amad-study\\scraping-study\\firefox\\geckodriver.exe\")\n",
    "driver = webdriver.Firefox(service=service, options=options)"
   ]
  },
  {
   "cell_type": "code",
   "execution_count": 15,
   "metadata": {},
   "outputs": [],
   "source": [
    "driver.get(\"https://remoteok.com/remote-jobs\")\n",
    "\n",
    "# Infinite scroll simulation\n",
    "SCROLL_PAUSE_TIME = 10  # Pause time after each scroll"
   ]
  },
  {
   "cell_type": "code",
   "execution_count": 16,
   "metadata": {},
   "outputs": [],
   "source": [
    "while True:\n",
    "    # Scroll to the bottom of the page\n",
    "    driver.execute_script(\"window.scrollTo(0, document.body.scrollHeight);\")\n",
    "    time.sleep(SCROLL_PAUSE_TIME)\n",
    "\n",
    "    # Check if there's a \"Load more\" or if the page hasn't changed\n",
    "    last_height = driver.execute_script(\"return document.body.scrollHeight\")\n",
    "    time.sleep(SCROLL_PAUSE_TIME)\n",
    "    new_height = driver.execute_script(\"return document.body.scrollHeight\")\n",
    "\n",
    "    if new_height == last_height:  # Break if no new content is loaded\n",
    "        break"
   ]
  },
  {
   "cell_type": "code",
   "execution_count": 17,
   "metadata": {},
   "outputs": [],
   "source": [
    "# Parse the loaded content\n",
    "soup = BeautifulSoup(driver.page_source, \"html.parser\")\n",
    "\n",
    "# Extract job details\n",
    "jobs = soup.find_all(\"tr\", class_=\"job\")\n",
    "csv_data = []\n",
    "\n",
    "for job in jobs:\n",
    "    try:\n",
    "        title = job.find(\"td\", class_=\"company_and_position\").find(\"h2\").text.strip()\n",
    "        company = job.find(\"td\", class_=\"company_and_position\").find(\"h3\").text.strip()\n",
    "        location = (\n",
    "            job.find(\"td\", class_=\"company_and_position\")\n",
    "            .find(\"div\", class_=\"location\")\n",
    "            .text.strip()\n",
    "        )\n",
    "        tags = job.find(\"td\", class_=\"tags\").find_all(\"h3\")\n",
    "        tag_list = [tag.text.strip() for tag in tags]\n",
    "        csv_data.append(\n",
    "            {\n",
    "                \"job_title\": title,\n",
    "                \"company\": company,\n",
    "                \"location\": location,\n",
    "                \"tags\": \",\".join(tag_list),\n",
    "            }\n",
    "        )\n",
    "    except AttributeError:\n",
    "        print(\"Error parsing a job. Skipping.\")\n",
    "\n",
    "# Save to CSV\n",
    "df = pd.DataFrame(csv_data)\n",
    "df.to_csv(\n",
    "    r\"F:\\amad-study\\scraping-study\\task-4\\remoteok_infinite_scroll_jobs.csv\",\n",
    "    index=False,\n",
    "    encoding=\"utf-8\",\n",
    ")"
   ]
  },
  {
   "cell_type": "code",
   "execution_count": 18,
   "metadata": {},
   "outputs": [],
   "source": [
    "# Close the browser\n",
    "driver.quit()"
   ]
  },
  {
   "cell_type": "code",
   "execution_count": null,
   "metadata": {},
   "outputs": [],
   "source": []
  }
 ],
 "metadata": {
  "kernelspec": {
   "display_name": "Python 3",
   "language": "python",
   "name": "python3"
  },
  "language_info": {
   "codemirror_mode": {
    "name": "ipython",
    "version": 3
   },
   "file_extension": ".py",
   "mimetype": "text/x-python",
   "name": "python",
   "nbconvert_exporter": "python",
   "pygments_lexer": "ipython3",
   "version": "3.12.3"
  }
 },
 "nbformat": 4,
 "nbformat_minor": 2
}

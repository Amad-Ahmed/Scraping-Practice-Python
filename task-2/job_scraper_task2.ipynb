{
 "cells": [
  {
   "cell_type": "code",
   "execution_count": 1,
   "metadata": {},
   "outputs": [],
   "source": [
    "import requests\n",
    "from bs4 import BeautifulSoup\n",
    "import pandas as pd"
   ]
  },
  {
   "cell_type": "code",
   "execution_count": 14,
   "metadata": {},
   "outputs": [
    {
     "name": "stdout",
     "output_type": "stream",
     "text": [
      "Page fetched successfully!\n"
     ]
    }
   ],
   "source": [
    "url = \"https://remoteok.com\"\n",
    "headers = {\n",
    "    \"User-Agent\": \"Mozilla/5.0 (Windows NT 10.0; Win64; x64) AppleWebKit/537.36 (KHTML, like Gecko) Chrome/91.0.4472.124 Safari/537.36\"\n",
    "}\n",
    "\n",
    "\n",
    "response = requests.get(url, headers=headers)\n",
    "\n",
    "if response.status_code == 200:\n",
    "    print(\"Page fetched successfully!\")\n",
    "else:\n",
    "    print(\"An error occurred while fetching the page\")"
   ]
  },
  {
   "cell_type": "code",
   "execution_count": 15,
   "metadata": {},
   "outputs": [
    {
     "name": "stdout",
     "output_type": "stream",
     "text": [
      "Remote Jobs in Programming, Design, Sales and more #OpenSalaries\n"
     ]
    }
   ],
   "source": [
    "# Parse the HTML content\n",
    "soup = BeautifulSoup(response.text, \"html.parser\")\n",
    "\n",
    "# Print the page title to confirm it worked\n",
    "print(soup.title.text)\n",
    "# print(soup.prettify())"
   ]
  },
  {
   "cell_type": "code",
   "execution_count": 29,
   "metadata": {},
   "outputs": [
    {
     "name": "stdout",
     "output_type": "stream",
     "text": [
      "Original Options: ['🤓 Engineer', '💼 Executive', '👵 Senior', '🤓 Developer', '💰 Finance', '♾️ Sys Admin']\n",
      "Cleaned Options: ['engineer', 'executive', 'senior', 'developer', 'finance', 'sys admin']\n"
     ]
    }
   ],
   "source": [
    "searchOptions = soup.find_all(\"div\", class_=\"suggested-filter\")\n",
    "options = []\n",
    "cleanedOptions = []\n",
    "\n",
    "for option in searchOptions:\n",
    "    original_text = option.text.strip()\n",
    "    options.append(original_text)\n",
    "    cleanedOptions.append(original_text[2:].strip().lower())\n",
    "\n",
    "print(\"Original Options:\", options)\n",
    "print(\"Cleaned Options:\", cleanedOptions)"
   ]
  },
  {
   "cell_type": "code",
   "execution_count": 31,
   "metadata": {},
   "outputs": [
    {
     "name": "stdout",
     "output_type": "stream",
     "text": [
      "Searching for engineer jobs...\n",
      "Saved engineer jobs to CSV.\n",
      "Searching for executive jobs...\n",
      "Error parsing a job card for executive: 'NoneType' object has no attribute 'text'\n",
      "Error parsing a job card for executive: 'NoneType' object has no attribute 'text'\n",
      "Saved executive jobs to CSV.\n",
      "Searching for senior jobs...\n",
      "Error parsing a job card for senior: 'NoneType' object has no attribute 'text'\n",
      "Saved senior jobs to CSV.\n",
      "Searching for developer jobs...\n",
      "Error parsing a job card for developer: 'NoneType' object has no attribute 'text'\n",
      "Error parsing a job card for developer: 'NoneType' object has no attribute 'text'\n",
      "Error parsing a job card for developer: 'NoneType' object has no attribute 'text'\n",
      "Error parsing a job card for developer: 'NoneType' object has no attribute 'text'\n",
      "Error parsing a job card for developer: 'NoneType' object has no attribute 'text'\n",
      "Error parsing a job card for developer: 'NoneType' object has no attribute 'text'\n",
      "Error parsing a job card for developer: 'NoneType' object has no attribute 'text'\n",
      "Error parsing a job card for developer: 'NoneType' object has no attribute 'text'\n",
      "Error parsing a job card for developer: 'NoneType' object has no attribute 'text'\n",
      "Error parsing a job card for developer: 'NoneType' object has no attribute 'text'\n",
      "Error parsing a job card for developer: 'NoneType' object has no attribute 'text'\n",
      "Error parsing a job card for developer: 'NoneType' object has no attribute 'text'\n",
      "Error parsing a job card for developer: 'NoneType' object has no attribute 'text'\n",
      "Error parsing a job card for developer: 'NoneType' object has no attribute 'text'\n",
      "Error parsing a job card for developer: 'NoneType' object has no attribute 'text'\n",
      "Saved developer jobs to CSV.\n",
      "Searching for finance jobs...\n",
      "Error parsing a job card for finance: 'NoneType' object has no attribute 'text'\n",
      "Error parsing a job card for finance: 'NoneType' object has no attribute 'text'\n",
      "Error parsing a job card for finance: 'NoneType' object has no attribute 'text'\n",
      "Error parsing a job card for finance: 'NoneType' object has no attribute 'text'\n",
      "Saved finance jobs to CSV.\n",
      "Searching for sys admin jobs...\n",
      "Error parsing a job card for sys admin: 'NoneType' object has no attribute 'text'\n",
      "No valid data found for sys admin. Skipping CSV save...\n"
     ]
    }
   ],
   "source": [
    "for option in cleanedOptions:\n",
    "    print(f\"Searching for {option} jobs...\")\n",
    "\n",
    "    try:\n",
    "        response = requests.get(f\"{url}/remote-{option}-jobs\", headers=headers)\n",
    "        response.raise_for_status()  # Raises HTTPError for bad responses (4xx and 5xx)\n",
    "        soup = BeautifulSoup(response.text, \"html.parser\")\n",
    "    except requests.exceptions.RequestException as e:\n",
    "        print(f\"Error fetching jobs for {option}: {e}\")\n",
    "        continue  # Skip this option and move to the next one\n",
    "\n",
    "    try:\n",
    "        jobCards = soup.find_all(\"tr\", class_=\"job\")\n",
    "        if not jobCards:\n",
    "            print(f\"No job cards found for {option}. Skipping...\")\n",
    "            continue\n",
    "\n",
    "        csv_data = []\n",
    "\n",
    "        # Loop through each job element\n",
    "        for job in jobCards:\n",
    "            try:\n",
    "                # Extract job title\n",
    "                title = (\n",
    "                    job.find(\"td\", class_=\"company_and_position\")\n",
    "                    .find(\"h2\")\n",
    "                    .text.strip()\n",
    "                )\n",
    "\n",
    "                # Extract company name\n",
    "                company = (\n",
    "                    job.find(\"td\", class_=\"company_and_position\")\n",
    "                    .find(\"h3\")\n",
    "                    .text.strip()\n",
    "                )\n",
    "\n",
    "                # Extract location\n",
    "                location = (\n",
    "                    job.find(\"td\", class_=\"company_and_position\")\n",
    "                    .find(\"div\", class_=\"location\")\n",
    "                    .text.strip()\n",
    "                )\n",
    "\n",
    "                # Extract salary\n",
    "                salary = (\n",
    "                    job.find(\"td\", class_=\"company_and_position\")\n",
    "                    .find(\"div\", class_=\"location\")\n",
    "                    .find_next_sibling(\"div\", class_=\"location tooltip\")\n",
    "                    .text.strip()\n",
    "                )\n",
    "\n",
    "                # Extract tags\n",
    "                tags = job.find(\"td\", class_=\"tags\").find_all(\"h3\")\n",
    "                tagList = [tag.text.strip() for tag in tags]\n",
    "\n",
    "                csv_data.append(\n",
    "                    {\n",
    "                        \"job_title\": title,\n",
    "                        \"company\": company,\n",
    "                        \"location\": location,\n",
    "                        \"salary\": salary,\n",
    "                        \"tags\": \",\".join(list(set(tagList))),\n",
    "                    }\n",
    "                )\n",
    "            except AttributeError as e:\n",
    "                print(f\"Error parsing a job card for {option}: {e}\")\n",
    "                continue  # Skip this job card and move to the next one\n",
    "\n",
    "        # Save to CSV if data exists\n",
    "        if csv_data:\n",
    "            df = pd.DataFrame(csv_data)\n",
    "            try:\n",
    "                df.to_csv(\n",
    "                    rf\"F:\\amad-study\\scraping-study\\task-2\\{option}_jobs.csv\",\n",
    "                    index=False,\n",
    "                )\n",
    "                print(f\"Saved {option} jobs to CSV.\")\n",
    "            except Exception as e:\n",
    "                print(f\"Error saving {option} jobs to CSV: {e}\")\n",
    "        else:\n",
    "            print(f\"No valid data found for {option}. Skipping CSV save...\")\n",
    "\n",
    "    except Exception as e:\n",
    "        print(f\"An unexpected error occurred while processing {option}: {e}\")"
   ]
  },
  {
   "cell_type": "code",
   "execution_count": null,
   "metadata": {},
   "outputs": [],
   "source": []
  }
 ],
 "metadata": {
  "kernelspec": {
   "display_name": "Python 3",
   "language": "python",
   "name": "python3"
  },
  "language_info": {
   "codemirror_mode": {
    "name": "ipython",
    "version": 3
   },
   "file_extension": ".py",
   "mimetype": "text/x-python",
   "name": "python",
   "nbconvert_exporter": "python",
   "pygments_lexer": "ipython3",
   "version": "3.12.3"
  }
 },
 "nbformat": 4,
 "nbformat_minor": 2
}
